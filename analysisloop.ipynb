{
 "metadata": {
  "language_info": {
   "codemirror_mode": {
    "name": "ipython",
    "version": 3
   },
   "file_extension": ".py",
   "mimetype": "text/x-python",
   "name": "python",
   "nbconvert_exporter": "python",
   "pygments_lexer": "ipython3",
   "version": "3.8.0-final"
  },
  "orig_nbformat": 2,
  "kernelspec": {
   "name": "python3",
   "display_name": "Python 3.8.0 64-bit",
   "metadata": {
    "interpreter": {
     "hash": "082e9a3bcad0a290d0001e938aa60b99250c6c2ef33a923c00b70f9826caf4b7"
    }
   }
  }
 },
 "nbformat": 4,
 "nbformat_minor": 2,
 "cells": [
  {
   "cell_type": "code",
   "execution_count": 1,
   "metadata": {},
   "outputs": [],
   "source": [
    "import pandas as pd\n",
    "import numpy as np\n",
    "import os\n",
    "import seaborn as sns\n",
    "import matplotlib.pyplot as plt\n"
   ]
  },
  {
   "cell_type": "code",
   "execution_count": 2,
   "metadata": {},
   "outputs": [],
   "source": [
    "overdirectory= \"data/historicaldata\"\n",
    "folders = [\"Spanien\", \"Deutschland\", \"Belgien\", \"Niederlande\", \"Italien\", \"Frankreich\", \"England\"]\n",
    "\n",
    "season = []\n",
    "scores = []\n",
    "gap_steps = [1,3,5,7]\n",
    "\n",
    "for folder in folders:\n",
    "    files = os.listdir(overdirectory+\"/\"+folder)\n",
    "    for file in files:\n",
    "        data = pd.read_csv(str(overdirectory+\"/\"+folder+\"/\"+file))\n",
    "        results_df = pd.DataFrame()\n",
    "        for element in gap_steps:\n",
    "            score_gap_list = []\n",
    "            score_gap = 0\n",
    "            cum_score_gap_list = []\n",
    "            for i in range(len(data)):\n",
    "                # Calculate Difference Homewin and Awaywin\n",
    "                gap = data[\"B365H\"][i] - data[\"B365A\"][i]\n",
    "                # Wenn Differenz größer 5 zwischen Heimsieg und Auswärtssieg, dann Einssatz 5EH auf Heimsieg\n",
    "                if gap <= - element and data[\"FTR\"][i] == \"H\":\n",
    "                    score_gap += ((data[\"B365H\"][i]*1)-1)\n",
    "                    score_gap_list.append(((data[\"B365H\"][i]*1)-1))\n",
    "                    cum_score_gap_list.append(score_gap)\n",
    "                # Wenn Auswärtsteam favorit um mehr als 2, dann 3H auf Auswärtssieg\n",
    "                elif gap > element and data[\"FTR\"][i] == \"A\":\n",
    "                    score_gap += ((data[\"B365A\"][i]*1)-1)\n",
    "                    score_gap_list.append(((data[\"B365A\"][i]*1)-1))\n",
    "                    cum_score_gap_list.append(score_gap)\n",
    "                # Evtl. Verluste berechnen    \n",
    "                elif gap <= - element and data[\"FTR\"][i] != \"H\":\n",
    "                    score_gap += -1\n",
    "                    score_gap_list.append(-1)\n",
    "                    cum_score_gap_list.append(score_gap)\n",
    "                elif gap > element and data[\"FTR\"][i] != \"A\":\n",
    "                    score_gap += -1\n",
    "                    score_gap_list.append(-1)\n",
    "                    cum_score_gap_list.append(score_gap)\n",
    "                else:\n",
    "                    score_gap_list.append(0)\n",
    "                    cum_score_gap_list.append(score_gap)\n",
    "            season.append(file)\n",
    "            scores.append(score_gap)\n",
    "            results_df[\"output_{}_{}_GER\".format(file, element)] = cum_score_gap_list\n",
    "\n",
    "        plt.figure()\n",
    "        sns.lineplot(data=results_df)\n",
    "        plt.title(\"output_{}_GER\".format(file))\n",
    "        plt.savefig(\"output_{}_GER.png\".format(file))\n",
    "        plt.close()"
   ]
  },
  {
   "cell_type": "code",
   "execution_count": null,
   "metadata": {},
   "outputs": [],
   "source": []
  }
 ]
}