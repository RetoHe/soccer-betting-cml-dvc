{
 "metadata": {
  "language_info": {
   "codemirror_mode": {
    "name": "ipython",
    "version": 3
   },
   "file_extension": ".py",
   "mimetype": "text/x-python",
   "name": "python",
   "nbconvert_exporter": "python",
   "pygments_lexer": "ipython3",
   "version": "3.8.0-final"
  },
  "orig_nbformat": 2,
  "kernelspec": {
   "name": "python3",
   "display_name": "Python 3",
   "language": "python"
  }
 },
 "nbformat": 4,
 "nbformat_minor": 2,
 "cells": [
  {
   "cell_type": "code",
   "execution_count": 33,
   "metadata": {},
   "outputs": [],
   "source": [
    "import pandas as pd\n",
    "import numpy as np"
   ]
  },
  {
   "cell_type": "code",
   "execution_count": 34,
   "metadata": {},
   "outputs": [],
   "source": [
    "data = pd.read_csv(\"data/soccerdata.csv\")"
   ]
  },
  {
   "cell_type": "code",
   "execution_count": 35,
   "metadata": {},
   "outputs": [
    {
     "output_type": "execute_result",
     "data": {
      "text/plain": [
       "  Div        Date   Time       HomeTeam    AwayTeam  FTHG  FTAG FTR  HTHG  \\\n",
       "0  D1  18/09/2020  19:30  Bayern Munich  Schalke 04     8     0   H     3   \n",
       "1  D1  19/09/2020  14:30  Ein Frankfurt   Bielefeld     1     1   D     0   \n",
       "2  D1  19/09/2020  14:30        FC Koln  Hoffenheim     2     3   A     1   \n",
       "\n",
       "   HTAG  ... AvgC<2.5  AHCh  B365CAHH  B365CAHA  PCAHH  PCAHA  MaxCAHH  \\\n",
       "0     0  ...     4.34 -2.50      1.89      2.04   1.87   2.02     1.95   \n",
       "1     0  ...     2.33 -0.75      1.96      1.97   1.96   1.96     2.02   \n",
       "2     2  ...     2.27  0.00      1.91      2.02   1.92   2.01     1.97   \n",
       "\n",
       "   MaxCAHA  AvgCAHH  AvgCAHA  \n",
       "0     2.18     1.85     2.02  \n",
       "1     1.98     1.94     1.93  \n",
       "2     2.08     1.89     1.98  \n",
       "\n",
       "[3 rows x 105 columns]"
      ],
      "text/html": "<div>\n<style scoped>\n    .dataframe tbody tr th:only-of-type {\n        vertical-align: middle;\n    }\n\n    .dataframe tbody tr th {\n        vertical-align: top;\n    }\n\n    .dataframe thead th {\n        text-align: right;\n    }\n</style>\n<table border=\"1\" class=\"dataframe\">\n  <thead>\n    <tr style=\"text-align: right;\">\n      <th></th>\n      <th>Div</th>\n      <th>Date</th>\n      <th>Time</th>\n      <th>HomeTeam</th>\n      <th>AwayTeam</th>\n      <th>FTHG</th>\n      <th>FTAG</th>\n      <th>FTR</th>\n      <th>HTHG</th>\n      <th>HTAG</th>\n      <th>...</th>\n      <th>AvgC&lt;2.5</th>\n      <th>AHCh</th>\n      <th>B365CAHH</th>\n      <th>B365CAHA</th>\n      <th>PCAHH</th>\n      <th>PCAHA</th>\n      <th>MaxCAHH</th>\n      <th>MaxCAHA</th>\n      <th>AvgCAHH</th>\n      <th>AvgCAHA</th>\n    </tr>\n  </thead>\n  <tbody>\n    <tr>\n      <th>0</th>\n      <td>D1</td>\n      <td>18/09/2020</td>\n      <td>19:30</td>\n      <td>Bayern Munich</td>\n      <td>Schalke 04</td>\n      <td>8</td>\n      <td>0</td>\n      <td>H</td>\n      <td>3</td>\n      <td>0</td>\n      <td>...</td>\n      <td>4.34</td>\n      <td>-2.50</td>\n      <td>1.89</td>\n      <td>2.04</td>\n      <td>1.87</td>\n      <td>2.02</td>\n      <td>1.95</td>\n      <td>2.18</td>\n      <td>1.85</td>\n      <td>2.02</td>\n    </tr>\n    <tr>\n      <th>1</th>\n      <td>D1</td>\n      <td>19/09/2020</td>\n      <td>14:30</td>\n      <td>Ein Frankfurt</td>\n      <td>Bielefeld</td>\n      <td>1</td>\n      <td>1</td>\n      <td>D</td>\n      <td>0</td>\n      <td>0</td>\n      <td>...</td>\n      <td>2.33</td>\n      <td>-0.75</td>\n      <td>1.96</td>\n      <td>1.97</td>\n      <td>1.96</td>\n      <td>1.96</td>\n      <td>2.02</td>\n      <td>1.98</td>\n      <td>1.94</td>\n      <td>1.93</td>\n    </tr>\n    <tr>\n      <th>2</th>\n      <td>D1</td>\n      <td>19/09/2020</td>\n      <td>14:30</td>\n      <td>FC Koln</td>\n      <td>Hoffenheim</td>\n      <td>2</td>\n      <td>3</td>\n      <td>A</td>\n      <td>1</td>\n      <td>2</td>\n      <td>...</td>\n      <td>2.27</td>\n      <td>0.00</td>\n      <td>1.91</td>\n      <td>2.02</td>\n      <td>1.92</td>\n      <td>2.01</td>\n      <td>1.97</td>\n      <td>2.08</td>\n      <td>1.89</td>\n      <td>1.98</td>\n    </tr>\n  </tbody>\n</table>\n<p>3 rows × 105 columns</p>\n</div>"
     },
     "metadata": {},
     "execution_count": 35
    }
   ],
   "source": [
    "data.head(3)"
   ]
  },
  {
   "cell_type": "code",
   "execution_count": 36,
   "metadata": {},
   "outputs": [
    {
     "output_type": "execute_result",
     "data": {
      "text/plain": [
       "        HomeTeam    AwayTeam  FTHG  FTAG FTR  HTHG  HTAG HTR  HS  AS  ...  AF  \\\n",
       "0  Bayern Munich  Schalke 04     8     0   H     3     0   H  22   5  ...  12   \n",
       "1  Ein Frankfurt   Bielefeld     1     1   D     0     0   D  18  14  ...  13   \n",
       "2        FC Koln  Hoffenheim     2     3   A     1     2   A  13  13  ...  13   \n",
       "\n",
       "   HC  AC  HY  AY  HR  AR  B365H  B365D  B365A  \n",
       "0   9   2   1   2   0   0   1.10   11.0  21.00  \n",
       "1  14   3   2   2   0   0   1.61    4.2   5.25  \n",
       "2   1   6   0   0   0   0   2.60    3.5   2.60  \n",
       "\n",
       "[3 rows x 23 columns]"
      ],
      "text/html": "<div>\n<style scoped>\n    .dataframe tbody tr th:only-of-type {\n        vertical-align: middle;\n    }\n\n    .dataframe tbody tr th {\n        vertical-align: top;\n    }\n\n    .dataframe thead th {\n        text-align: right;\n    }\n</style>\n<table border=\"1\" class=\"dataframe\">\n  <thead>\n    <tr style=\"text-align: right;\">\n      <th></th>\n      <th>HomeTeam</th>\n      <th>AwayTeam</th>\n      <th>FTHG</th>\n      <th>FTAG</th>\n      <th>FTR</th>\n      <th>HTHG</th>\n      <th>HTAG</th>\n      <th>HTR</th>\n      <th>HS</th>\n      <th>AS</th>\n      <th>...</th>\n      <th>AF</th>\n      <th>HC</th>\n      <th>AC</th>\n      <th>HY</th>\n      <th>AY</th>\n      <th>HR</th>\n      <th>AR</th>\n      <th>B365H</th>\n      <th>B365D</th>\n      <th>B365A</th>\n    </tr>\n  </thead>\n  <tbody>\n    <tr>\n      <th>0</th>\n      <td>Bayern Munich</td>\n      <td>Schalke 04</td>\n      <td>8</td>\n      <td>0</td>\n      <td>H</td>\n      <td>3</td>\n      <td>0</td>\n      <td>H</td>\n      <td>22</td>\n      <td>5</td>\n      <td>...</td>\n      <td>12</td>\n      <td>9</td>\n      <td>2</td>\n      <td>1</td>\n      <td>2</td>\n      <td>0</td>\n      <td>0</td>\n      <td>1.10</td>\n      <td>11.0</td>\n      <td>21.00</td>\n    </tr>\n    <tr>\n      <th>1</th>\n      <td>Ein Frankfurt</td>\n      <td>Bielefeld</td>\n      <td>1</td>\n      <td>1</td>\n      <td>D</td>\n      <td>0</td>\n      <td>0</td>\n      <td>D</td>\n      <td>18</td>\n      <td>14</td>\n      <td>...</td>\n      <td>13</td>\n      <td>14</td>\n      <td>3</td>\n      <td>2</td>\n      <td>2</td>\n      <td>0</td>\n      <td>0</td>\n      <td>1.61</td>\n      <td>4.2</td>\n      <td>5.25</td>\n    </tr>\n    <tr>\n      <th>2</th>\n      <td>FC Koln</td>\n      <td>Hoffenheim</td>\n      <td>2</td>\n      <td>3</td>\n      <td>A</td>\n      <td>1</td>\n      <td>2</td>\n      <td>A</td>\n      <td>13</td>\n      <td>13</td>\n      <td>...</td>\n      <td>13</td>\n      <td>1</td>\n      <td>6</td>\n      <td>0</td>\n      <td>0</td>\n      <td>0</td>\n      <td>0</td>\n      <td>2.60</td>\n      <td>3.5</td>\n      <td>2.60</td>\n    </tr>\n  </tbody>\n</table>\n<p>3 rows × 23 columns</p>\n</div>"
     },
     "metadata": {},
     "execution_count": 36
    }
   ],
   "source": [
    "data = data[[\"HomeTeam\", \"AwayTeam\", \"FTHG\", \"FTAG\", \"FTR\", \"HTHG\", \"HTAG\", \"HTR\",\"HS\",\"AS\",\"HST\",\"AST\",\"HF\",\"AF\",\"HC\",\"AC\",\"HY\",\"AY\",\"HR\",\"AR\",\"B365H\",\"B365D\",\"B365A\"]]\n",
    "data.head(3)"
   ]
  },
  {
   "cell_type": "code",
   "execution_count": 37,
   "metadata": {},
   "outputs": [],
   "source": [
    "teams = data.HomeTeam.unique()"
   ]
  },
  {
   "cell_type": "code",
   "execution_count": 38,
   "metadata": {},
   "outputs": [],
   "source": [
    "HS = []\n",
    "HC = []\n",
    "HF = []\n",
    "HY = []\n",
    "HR = []\n",
    "\n",
    "for i in range(len(teams)):\n",
    "    home_shoots = 0\n",
    "    home_corners = 0\n",
    "    home_fouls = 0\n",
    "    home_yellow = 0\n",
    "    home_red = 0\n",
    "    for j in range(len(data[\"HomeTeam\"])):\n",
    "        if data[\"HomeTeam\"][j] == teams[i]:\n",
    "            home_shoots += data[\"HS\"][j]\n",
    "            home_corners += data[\"HC\"][j]\n",
    "            home_fouls += data[\"HF\"][j]\n",
    "            home_yellow += data[\"HY\"][j]\n",
    "            home_red += data[\"HR\"][j]\n",
    "        else:\n",
    "            continue\n",
    "\n",
    "    HS.append(home_shoots)\n",
    "    HC.append(home_corners)\n",
    "    HF.append(home_fouls)\n",
    "    HY.append(home_yellow)\n",
    "    HR.append(home_red)\n"
   ]
  },
  {
   "cell_type": "code",
   "execution_count": 39,
   "metadata": {},
   "outputs": [],
   "source": [
    "AS = []\n",
    "AC = []\n",
    "AF = []\n",
    "AY = []\n",
    "AR = []\n",
    "\n",
    "for i in range(len(teams)):\n",
    "    away_shoots = 0\n",
    "    away_corners = 0\n",
    "    away_fouls = 0\n",
    "    away_yellow = 0\n",
    "    away_red = 0\n",
    "    for j in range(len(data[\"AwayTeam\"])):\n",
    "        if data[\"AwayTeam\"][j] == teams[i]:\n",
    "            away_shoots += data[\"AS\"][j]\n",
    "            away_corners += data[\"AC\"][j]\n",
    "            away_fouls += data[\"AF\"][j]\n",
    "            away_yellow += data[\"AY\"][j]\n",
    "            away_red += data[\"AR\"][j]\n",
    "        else:\n",
    "            continue\n",
    "\n",
    "    AS.append(away_shoots)\n",
    "    AC.append(away_corners)\n",
    "    AF.append(away_fouls)\n",
    "    AY.append(away_yellow)\n",
    "    AR.append(away_red)"
   ]
  },
  {
   "cell_type": "code",
   "execution_count": 40,
   "metadata": {},
   "outputs": [],
   "source": [
    "Home_Wins = []\n",
    "Home_Draws = []\n",
    "Home_Loss = []\n",
    "\n",
    "for i in range(len(teams)):\n",
    "    home_wins = 0\n",
    "    home_draws = 0\n",
    "    home_loss = 0\n",
    "\n",
    "    for j in range(len(data[\"AwayTeam\"])):\n",
    "        if data[\"HomeTeam\"][j] == teams[i] and data[\"FTR\"][j] == \"H\":\n",
    "            home_wins += 1\n",
    "        elif data[\"HomeTeam\"][j] == teams[i] and data[\"FTR\"][j] == \"D\":\n",
    "            home_draws += 1\n",
    "        elif data[\"HomeTeam\"][j] == teams[i] and data[\"FTR\"][j] == \"A\":\n",
    "            home_loss += 1\n",
    "        else:\n",
    "            continue\n",
    "\n",
    "    Home_Wins.append(home_wins)\n",
    "    Home_Draws.append(home_draws)\n",
    "    Home_Loss.append(home_loss)\n"
   ]
  },
  {
   "cell_type": "code",
   "execution_count": 41,
   "metadata": {},
   "outputs": [],
   "source": [
    "Away_Wins = []\n",
    "Away_Draws = []\n",
    "Away_Loss = []\n",
    "\n",
    "for i in range(len(teams)):\n",
    "    away_wins = 0\n",
    "    away_draws = 0\n",
    "    away_loss = 0\n",
    "\n",
    "    for j in range(len(data[\"AwayTeam\"])):\n",
    "        if data[\"AwayTeam\"][j] == teams[i] and data[\"FTR\"][j] == \"A\":\n",
    "            away_wins += 1\n",
    "        elif data[\"AwayTeam\"][j] == teams[i] and data[\"FTR\"][j] == \"D\":\n",
    "            away_draws += 1\n",
    "        elif data[\"AwayTeam\"][j] == teams[i] and data[\"FTR\"][j] == \"H\":\n",
    "            away_loss += 1\n",
    "        else:\n",
    "            continue\n",
    "\n",
    "    Away_Wins.append(away_wins)\n",
    "    Away_Draws.append(away_draws)\n",
    "    Away_Loss.append(away_loss)"
   ]
  },
  {
   "cell_type": "code",
   "execution_count": 42,
   "metadata": {},
   "outputs": [
    {
     "output_type": "stream",
     "name": "stdout",
     "text": [
      "{'Bayern Munich': 102, 'Ein Frankfurt': 76, 'FC Koln': 62, 'Stuttgart': 86, 'Union Berlin': 97, 'Werder Bremen': 68, 'Dortmund': 83, 'RB Leipzig': 132, 'Wolfsburg': 95, 'Hertha': 74, 'Augsburg': 69, 'Bielefeld': 47, 'Leverkusen': 76, 'Mainz': 79, \"M'gladbach\": 98, 'Schalke 04': 81, 'Hoffenheim': 65, 'Freiburg': 122}\n"
     ]
    }
   ],
   "source": [
    "HS_dictionary = dict(zip(teams, HS))\n",
    "AS_dictionary = dict(zip(teams, AS))\n",
    "HC_dictionary = dict(zip(teams, HC))\n",
    "AC_dictionary = dict(zip(teams, AC))\n",
    "HF_dictionary = dict(zip(teams, HF))\n",
    "AF_dictionary = dict(zip(teams, AF))\n",
    "HY_dictionary = dict(zip(teams, HY))\n",
    "AY_dictionary = dict(zip(teams, AY))\n",
    "HR_dictionary = dict(zip(teams, HR))\n",
    "AR_dictionary = dict(zip(teams, AR))\n",
    "print(HS_dictionary)"
   ]
  },
  {
   "cell_type": "code",
   "execution_count": 43,
   "metadata": {},
   "outputs": [],
   "source": [
    "HWin_dictionary = dict(zip(teams, Home_Wins))\n",
    "HDraw_dictionary = dict(zip(teams, Home_Draws))\n",
    "HLoss_dictionary = dict(zip(teams, Home_Loss))\n",
    "AWin_dictionary = dict(zip(teams, Away_Wins))\n",
    "ADraw_dictionary = dict(zip(teams, Away_Draws))\n",
    "ALoss_dictionary = dict(zip(teams, Away_Loss))"
   ]
  },
  {
   "cell_type": "code",
   "execution_count": 46,
   "metadata": {},
   "outputs": [],
   "source": [
    "data['HomeShoot'] = data['HomeTeam'].map(HS_dictionary)\n",
    "data[\"AwayShoot\"] = data['AwayTeam'].map(AS_dictionary)\n",
    "data['HomeCorner'] = data['HomeTeam'].map(HC_dictionary)\n",
    "data[\"AwayCorner\"] = data['AwayTeam'].map(AC_dictionary)\n",
    "data['HomeFouls'] = data['HomeTeam'].map(HF_dictionary)\n",
    "data[\"AwayFouls\"] = data['AwayTeam'].map(AF_dictionary)\n",
    "data['HomeYellow'] = data['HomeTeam'].map(HY_dictionary)\n",
    "data[\"AwayYellow\"] = data['AwayTeam'].map(AY_dictionary)\n",
    "data['HomeRed'] = data['HomeTeam'].map(HR_dictionary)\n",
    "data[\"AwayRed\"] = data['AwayTeam'].map(AR_dictionary)\n",
    "data['HomeWin'] = data['HomeTeam'].map(HWin_dictionary)\n",
    "data[\"AwayWin\"] = data['AwayTeam'].map(AWin_dictionary)\n",
    "data['HomeDraw'] = data['HomeTeam'].map(HDraw_dictionary)\n",
    "data[\"AwayDraw\"] = data['AwayTeam'].map(ADraw_dictionary)\n",
    "data['HomeLoss'] = data['HomeTeam'].map(HLoss_dictionary)\n",
    "data[\"AwayLoss\"] = data['AwayTeam'].map(ALoss_dictionary)"
   ]
  },
  {
   "cell_type": "code",
   "execution_count": 47,
   "metadata": {},
   "outputs": [],
   "source": [
    "data = data[[\"HomeTeam\", \"AwayTeam\", \"FTR\", \"HomeShoot\", \"AwayShoot\", \"HomeCorner\",\"AwayCorner\",\"HomeFouls\",\"AwayFouls\",\"HomeYellow\",\"AwayYellow\",\"HomeRed\",\"AwayRed\",\"HomeWin\",\"AwayWin\",\"HomeDraw\",\"AwayDraw\",\"HomeLoss\",\"AwayLoss\", \"B365H\",\"B365D\",\"B365A\"]]"
   ]
  },
  {
   "cell_type": "code",
   "execution_count": null,
   "metadata": {},
   "outputs": [],
   "source": [
    "data.to_csv(r'data/soccerdata_cleaned.csv', index = False)"
   ]
  }
 ]
}