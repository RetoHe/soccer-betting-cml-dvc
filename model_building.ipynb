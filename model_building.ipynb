{
 "metadata": {
  "language_info": {
   "codemirror_mode": {
    "name": "ipython",
    "version": 3
   },
   "file_extension": ".py",
   "mimetype": "text/x-python",
   "name": "python",
   "nbconvert_exporter": "python",
   "pygments_lexer": "ipython3",
   "version": "3.8.0-final"
  },
  "orig_nbformat": 2,
  "kernelspec": {
   "name": "python3",
   "display_name": "Python 3",
   "language": "python"
  }
 },
 "nbformat": 4,
 "nbformat_minor": 2,
 "cells": [
  {
   "cell_type": "code",
   "execution_count": 8,
   "metadata": {},
   "outputs": [],
   "source": [
    "import pandas as pd\n",
    "import numpy as np\n",
    "from sklearn.model_selection import train_test_split\n",
    "from sklearn.preprocessing import MinMaxScaler, RobustScaler, LabelEncoder, OneHotEncoder\n",
    "from sklearn.impute import SimpleImputer\n",
    "from sklearn.pipeline import FeatureUnion\n"
   ]
  },
  {
   "cell_type": "code",
   "execution_count": 9,
   "metadata": {},
   "outputs": [],
   "source": [
    "data = pd.read_csv(\"data/soccerdata_cleaned.csv\")"
   ]
  },
  {
   "cell_type": "code",
   "execution_count": 10,
   "metadata": {},
   "outputs": [
    {
     "output_type": "execute_result",
     "data": {
      "text/plain": [
       "Index(['HomeTeam', 'AwayTeam', 'FTR', 'HomeShoot', 'AwayShoot', 'HomeCorner',\n",
       "       'AwayCorner', 'HomeFouls', 'AwayFouls', 'HomeYellow', 'AwayYellow',\n",
       "       'HomeRed', 'AwayRed', 'HomeWin', 'AwayWin', 'HomeDraw', 'AwayDraw',\n",
       "       'HomeLoss', 'AwayLoss', 'B365H', 'B365D', 'B365A'],\n",
       "      dtype='object')"
      ]
     },
     "metadata": {},
     "execution_count": 10
    }
   ],
   "source": [
    "data.columns"
   ]
  },
  {
   "cell_type": "code",
   "execution_count": 11,
   "metadata": {},
   "outputs": [],
   "source": [
    "data[\"FTR\"] = data[\"FTR\"].replace(\"H\", 1)\n",
    "data[\"FTR\"] = data[\"FTR\"].replace(\"D\", 2)\n",
    "data[\"FTR\"] = data[\"FTR\"].replace(\"A\", 3)"
   ]
  },
  {
   "cell_type": "code",
   "execution_count": 12,
   "metadata": {},
   "outputs": [],
   "source": [
    "\n",
    "# Train Test Split\n",
    "input_features = [\n",
    "    'HomeShoot', 'AwayShoot', 'HomeCorner',\n",
    "    'AwayCorner', 'HomeFouls', 'AwayFouls', 'HomeYellow', 'AwayYellow',\n",
    "    'HomeRed', 'AwayRed', 'HomeWin', 'AwayWin', 'HomeDraw', 'AwayDraw',\n",
    "    'HomeLoss', 'AwayLoss',\n",
    "]\n",
    "\n",
    "output_features = [\n",
    "    \"FTR\" \n",
    "]\n",
    "\n",
    "X_train, X_test, y_train, y_test = train_test_split(\n",
    "    data[input_features],\n",
    "    data[output_features],\n",
    "    random_state = 42\n",
    ")"
   ]
  },
  {
   "cell_type": "code",
   "execution_count": 23,
   "metadata": {},
   "outputs": [
    {
     "output_type": "execute_result",
     "data": {
      "text/plain": [
       "        HomeTeam    AwayTeam  FTHG  FTAG  FTR  HTHG  HTAG HTR  HS  AS  ...  \\\n",
       "0  Bayern Munich  Schalke 04     8     0    1     3     0   H  22   5  ...   \n",
       "1  Ein Frankfurt   Bielefeld     1     1    2     0     0   D  18  14  ...   \n",
       "2        FC Koln  Hoffenheim     2     3    3     1     2   A  13  13  ...   \n",
       "3      Stuttgart    Freiburg     2     3    3     0     2   A  22   7  ...   \n",
       "4   Union Berlin    Augsburg     1     3    3     0     1   A  13   9  ...   \n",
       "\n",
       "   AF  HC  AC  HY  AY  HR  AR  B365H  B365D  B365A  \n",
       "0  12   9   2   1   2   0   0   1.10   11.0  21.00  \n",
       "1  13  14   3   2   2   0   0   1.61    4.2   5.25  \n",
       "2  13   1   6   0   0   0   0   2.60    3.5   2.60  \n",
       "3  16   7   2   2   2   0   0   2.25    3.5   3.10  \n",
       "4   9   8   1   2   0   0   0   2.30    3.3   3.20  \n",
       "\n",
       "[5 rows x 23 columns]"
      ],
      "text/html": "<div>\n<style scoped>\n    .dataframe tbody tr th:only-of-type {\n        vertical-align: middle;\n    }\n\n    .dataframe tbody tr th {\n        vertical-align: top;\n    }\n\n    .dataframe thead th {\n        text-align: right;\n    }\n</style>\n<table border=\"1\" class=\"dataframe\">\n  <thead>\n    <tr style=\"text-align: right;\">\n      <th></th>\n      <th>HomeTeam</th>\n      <th>AwayTeam</th>\n      <th>FTHG</th>\n      <th>FTAG</th>\n      <th>FTR</th>\n      <th>HTHG</th>\n      <th>HTAG</th>\n      <th>HTR</th>\n      <th>HS</th>\n      <th>AS</th>\n      <th>...</th>\n      <th>AF</th>\n      <th>HC</th>\n      <th>AC</th>\n      <th>HY</th>\n      <th>AY</th>\n      <th>HR</th>\n      <th>AR</th>\n      <th>B365H</th>\n      <th>B365D</th>\n      <th>B365A</th>\n    </tr>\n  </thead>\n  <tbody>\n    <tr>\n      <th>0</th>\n      <td>Bayern Munich</td>\n      <td>Schalke 04</td>\n      <td>8</td>\n      <td>0</td>\n      <td>1</td>\n      <td>3</td>\n      <td>0</td>\n      <td>H</td>\n      <td>22</td>\n      <td>5</td>\n      <td>...</td>\n      <td>12</td>\n      <td>9</td>\n      <td>2</td>\n      <td>1</td>\n      <td>2</td>\n      <td>0</td>\n      <td>0</td>\n      <td>1.10</td>\n      <td>11.0</td>\n      <td>21.00</td>\n    </tr>\n    <tr>\n      <th>1</th>\n      <td>Ein Frankfurt</td>\n      <td>Bielefeld</td>\n      <td>1</td>\n      <td>1</td>\n      <td>2</td>\n      <td>0</td>\n      <td>0</td>\n      <td>D</td>\n      <td>18</td>\n      <td>14</td>\n      <td>...</td>\n      <td>13</td>\n      <td>14</td>\n      <td>3</td>\n      <td>2</td>\n      <td>2</td>\n      <td>0</td>\n      <td>0</td>\n      <td>1.61</td>\n      <td>4.2</td>\n      <td>5.25</td>\n    </tr>\n    <tr>\n      <th>2</th>\n      <td>FC Koln</td>\n      <td>Hoffenheim</td>\n      <td>2</td>\n      <td>3</td>\n      <td>3</td>\n      <td>1</td>\n      <td>2</td>\n      <td>A</td>\n      <td>13</td>\n      <td>13</td>\n      <td>...</td>\n      <td>13</td>\n      <td>1</td>\n      <td>6</td>\n      <td>0</td>\n      <td>0</td>\n      <td>0</td>\n      <td>0</td>\n      <td>2.60</td>\n      <td>3.5</td>\n      <td>2.60</td>\n    </tr>\n    <tr>\n      <th>3</th>\n      <td>Stuttgart</td>\n      <td>Freiburg</td>\n      <td>2</td>\n      <td>3</td>\n      <td>3</td>\n      <td>0</td>\n      <td>2</td>\n      <td>A</td>\n      <td>22</td>\n      <td>7</td>\n      <td>...</td>\n      <td>16</td>\n      <td>7</td>\n      <td>2</td>\n      <td>2</td>\n      <td>2</td>\n      <td>0</td>\n      <td>0</td>\n      <td>2.25</td>\n      <td>3.5</td>\n      <td>3.10</td>\n    </tr>\n    <tr>\n      <th>4</th>\n      <td>Union Berlin</td>\n      <td>Augsburg</td>\n      <td>1</td>\n      <td>3</td>\n      <td>3</td>\n      <td>0</td>\n      <td>1</td>\n      <td>A</td>\n      <td>13</td>\n      <td>9</td>\n      <td>...</td>\n      <td>9</td>\n      <td>8</td>\n      <td>1</td>\n      <td>2</td>\n      <td>0</td>\n      <td>0</td>\n      <td>0</td>\n      <td>2.30</td>\n      <td>3.3</td>\n      <td>3.20</td>\n    </tr>\n  </tbody>\n</table>\n<p>5 rows × 23 columns</p>\n</div>"
     },
     "metadata": {},
     "execution_count": 23
    }
   ],
   "source": [
    "data.head()"
   ]
  },
  {
   "cell_type": "code",
   "execution_count": 13,
   "metadata": {},
   "outputs": [],
   "source": [
    "from sklearn.linear_model import LogisticRegression\n"
   ]
  },
  {
   "cell_type": "code",
   "execution_count": 14,
   "metadata": {},
   "outputs": [],
   "source": [
    "logistic_model = LogisticRegression()\n",
    "logistic_model.fit(X_train, y_train)\n",
    "logistic_prediction = logistic_model.predict(X_test)"
   ]
  },
  {
   "cell_type": "code",
   "execution_count": 18,
   "metadata": {},
   "outputs": [],
   "source": [
    "test_score = round(logistic_model.score(X_test, y_test),2)"
   ]
  },
  {
   "cell_type": "code",
   "execution_count": 19,
   "metadata": {},
   "outputs": [],
   "source": [
    "with open(\"testscore.txt\", \"w\") as f:\n",
    "    print(test_score, file=f)"
   ]
  },
  {
   "cell_type": "code",
   "execution_count": null,
   "metadata": {},
   "outputs": [],
   "source": []
  }
 ]
}